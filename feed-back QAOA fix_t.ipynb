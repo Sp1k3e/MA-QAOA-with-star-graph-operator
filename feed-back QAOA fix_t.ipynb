{
 "cells": [
  {
   "cell_type": "code",
   "execution_count": null,
   "metadata": {},
   "outputs": [],
   "source": [
    "import networkx\n",
    "import random\n",
    "import scipy\n",
    "\n",
    "def generate_graph(n, seed=1):\n",
    "    graph = networkx.Graph()\n",
    "    edge_list = []\n",
    "    for n1 in range(n):\n",
    "        for n2 in range(n1+1,n):\n",
    "            edge_list.append((n1,n2))\n",
    "    \n",
    "    graph.add_edges_from(edge_list)\n",
    "    random.seed(seed)\n",
    "    weights = [random.random() for i in range(len(edge_list))]\n",
    "\n",
    "    for index, edge in enumerate(graph.edges()):\n",
    "        graph.get_edge_data(*edge)['weight'] = weights[index]\n",
    "\n",
    "    return graph, weights\n",
    "\n",
    "no_vertices = 5\n",
    "graph = generate_graph(no_vertices)[0]\n",
    "pos=networkx.circular_layout(graph)\n",
    "networkx.draw_networkx(graph, pos)\n",
    "labels = networkx.get_edge_attributes(graph,'weight')\n",
    "for edge in labels:\n",
    "    labels[edge] = round(labels[edge], 3)\n",
    "tmp = networkx.draw_networkx_edge_labels(graph, pos, edge_labels=labels)\n"
   ]
  },
  {
   "cell_type": "code",
   "execution_count": null,
   "metadata": {},
   "outputs": [],
   "source": [
    "from src_code import build_operators\n",
    "\n",
    "hamiltonian = build_operators.cut_hamiltonian(graph=graph)\n",
    "gradient_ops_dict = build_operators.build_all_mixers(graph=graph)\n",
    "pauli_ops_dict = build_operators.build_all_paulis(no_vertices)"
   ]
  },
  {
   "cell_type": "code",
   "execution_count": null,
   "metadata": {},
   "outputs": [],
   "source": [
    "from src_code import useful_methods\n",
    "\n",
    "max_cut_solution = useful_methods.find_optimal_cut(graph)\n",
    "max_cut_value = max_cut_solution[1]\n",
    "max_ham_eigenvalue = max_cut_solution[2]\n",
    "ham_offset = max_cut_value - max_ham_eigenvalue\n",
    "\n",
    "hamiltonian = build_operators.cut_hamiltonian(graph)\n",
    "mix_hamiltonian = build_operators.mix_hamiltonian(graph)\n",
    "det_ham = scipy.linalg.norm(hamiltonian.toarray(),2)\n",
    "det_mix = scipy.linalg.norm(mix_hamiltonian.toarray(),2)\n",
    "\n",
    "beta = 0\n",
    "delta_t = 0.1\n",
    "ham_approx_ratios = []\n",
    "cut_approx_ratios = []\n",
    "\n",
    "max_layers = 100\n",
    "layer = 0\n",
    "\n",
    "curr_dens_mat = build_operators.initial_density_matrix(no_vertices)"
   ]
  },
  {
   "cell_type": "code",
   "execution_count": null,
   "metadata": {},
   "outputs": [],
   "source": [
    "def build_layer(curr_dens_mat,beta, delta_t):\n",
    "    \"\"\" one layer \n",
    "    \"\"\"\n",
    "    cut_unit = build_operators.cut_unitary(graph,delta_t,pauli_ops_dict)\n",
    "    curr_dens_mat = (cut_unit * curr_dens_mat) * (cut_unit.transpose().conj())\n",
    "\n",
    "    mix_unit = build_operators.mixer_unitary('standard_x', beta * delta_t, pauli_ops_dict, no_vertices)\n",
    "    curr_dens_mat = (mix_unit * curr_dens_mat) * (mix_unit.transpose().conj())\n",
    "\n",
    "    return curr_dens_mat"
   ]
  },
  {
   "cell_type": "code",
   "execution_count": null,
   "metadata": {},
   "outputs": [],
   "source": [
    "def update_time(curr_dens_mat):\n",
    "\n",
    "    A = 1j*(mix_hamiltonian*hamiltonian - hamiltonian * mix_hamiltonian) * curr_dens_mat\n",
    "    expectation = A.trace().real\n",
    "    delta_t = abs(expectation) / (2*(2* det_ham * det_mix + abs(expectation)) * (det_ham + det_mix * beta))\n",
    "    print(delta_t, end=' ')\n",
    "    return delta_t "
   ]
  },
  {
   "cell_type": "code",
   "execution_count": null,
   "metadata": {},
   "outputs": [],
   "source": [
    "while layer < max_layers:\n",
    "    layer += 1\n",
    "    curr_dens_mat = build_layer(curr_dens_mat, beta, delta_t)\n",
    "    if beta == 0:\n",
    "        beta = 10\n",
    "    delta_t = update_time(curr_dens_mat)\n",
    "\n",
    "    hamiltonian_expectation = (hamiltonian * curr_dens_mat).trace().real\n",
    "    ham_approx_ratio = hamiltonian_expectation / max_ham_eigenvalue\n",
    "    cut_approx_ratio = (hamiltonian_expectation + max_cut_value - max_ham_eigenvalue) / max_cut_value\n",
    "\n",
    "    print(\"layer\", layer, \": \", cut_approx_ratio,sep='')"
   ]
  }
 ],
 "metadata": {
  "kernelspec": {
   "display_name": "Python 3",
   "language": "python",
   "name": "python3"
  },
  "language_info": {
   "codemirror_mode": {
    "name": "ipython",
    "version": 3
   },
   "file_extension": ".py",
   "mimetype": "text/x-python",
   "name": "python",
   "nbconvert_exporter": "python",
   "pygments_lexer": "ipython3",
   "version": "3.10.10"
  }
 },
 "nbformat": 4,
 "nbformat_minor": 2
}
