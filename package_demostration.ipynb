{
 "cells": [
  {
   "attachments": {},
   "cell_type": "markdown",
   "metadata": {},
   "source": [
    "## Quantum Approximate Optimisation Algorithm in Python\n",
    "\n",
    "This notebook demostrates how the package in this repository can be used to solve quadratic unconstrained binary optimisation (QUBO) problems, expressed in the context of the max-cut problem from graph theory, using a quantum algorithm.\n",
    "\n",
    "We start by first defining the graph using the $\\texttt{networkx}$ package in Python. In this example we will be considering a quite simple complete graph with 4 vertices, where the weights of each edge are\n",
    "uniformly distributed between 0 and 1."
   ]
  },
  {
   "cell_type": "code",
   "execution_count": null,
   "metadata": {},
   "outputs": [],
   "source": [
    "import networkx as nx\n",
    "from src_code import get_data\n",
    "import random\n",
    "\n",
    "def generate_graph(n, seed=1):\n",
    "\n",
    "    graph = nx.Graph()\n",
    "    edge_list = []\n",
    "    for n_1 in range(n):\n",
    "\n",
    "        for n_2 in range(n_1+1, n):\n",
    "\n",
    "            edge_list.append((n_1, n_2))\n",
    "            \n",
    "    graph.add_edges_from(edge_list)\n",
    "\n",
    "    random.seed(seed)\n",
    "    weights = [random.random() for i in range(len(edge_list))]\n",
    "\n",
    "    for index, edge in enumerate(graph.edges()):\n",
    "        graph.get_edge_data(*edge)['weight'] = weights[index]\n",
    "\n",
    "    return graph, weights"
   ]
  },
  {
   "cell_type": "code",
   "execution_count": null,
   "metadata": {},
   "outputs": [],
   "source": [
    "no_vertices = 4\n",
    "graph = generate_graph(no_vertices)[0]\n",
    "pos=nx.circular_layout(graph)\n",
    "nx.draw_networkx(graph, pos)\n",
    "labels = nx.get_edge_attributes(graph,'weight')\n",
    "for edge in labels:\n",
    "    labels[edge] = round(labels[edge], 3)\n",
    "tmp = nx.draw_networkx_edge_labels(graph, pos, edge_labels=labels)"
   ]
  },
  {
   "attachments": {},
   "cell_type": "markdown",
   "metadata": {},
   "source": [
    "Once we have generated the graph, we can define the Ising Hamiltonian whose maximum energy eigenstate corresponds to the solution to the problem. This is given by $$\\hat{H}_C=-\\frac{1}{4}\\sum_{i,j=0}^{n-1}W_{ij}\\hat{Z}_i\\hat{Z}_j.$$ It should be noted that the eigenvalues of this Hamiltonian are not exactly equal to the values of their corresponding cuts. They differ by a constant term $A = \\frac{1}{4}\\sum_{i,j=0}^{n-1}W_{ij}$, which is removed as it doesn't influence to the operation of the algorithm. It is later added back in to generate correct results. Additionally, we can define all the commutators $$\\left[\\hat{H}_C,-i\\hat{A}\\right]\\quad\\forall \\quad\\hat{A}\\in\\mathcal{P}.$$ These are used to find the gradients in parameter space at each iteration which are used to determine which mixer operator from the pool $\\mathcal{P}$ to be added to the ADAPT-QAOA circuit in the current layer."
   ]
  },
  {
   "cell_type": "code",
   "execution_count": null,
   "metadata": {},
   "outputs": [],
   "source": [
    "from src_code import build_operators\n",
    "\n",
    "hamiltonian = build_operators.cut_hamiltonian(graph=graph)\n",
    "gradient_ops_dict = build_operators.build_all_mixers(graph=graph)"
   ]
  },
  {
   "attachments": {},
   "cell_type": "markdown",
   "metadata": {},
   "source": [
    "In order to make the generation of the unitaries in the ansatz quicker between iterations of both the overall algorithm and the classical optimsation scheme, it is useful to pre-compute all the Pauli strings appearing in the exponents of the unitaries. This then allows one to use the identity $$e^{i\\alpha\\hat{P}}=\\cos(\\alpha)\\hat{I}+i\\sin(\\alpha)\\hat{P}$$ for single Pauli strings, to find the unitaries using simple floating point arithmetic, rather than matrix exponentiation during each iteration."
   ]
  },
  {
   "cell_type": "code",
   "execution_count": null,
   "metadata": {},
   "outputs": [],
   "source": [
    "pauli_ops_dict = build_operators.build_all_paulis(no_vertices)"
   ]
  },
  {
   "attachments": {},
   "cell_type": "markdown",
   "metadata": {},
   "source": [
    "All this pre-computation allows for significant speed-up in the execution of the algorithms. We now move on to actually running QAOA on the graph. We first perform the standard non-adaptive algorithm. To do so we require to pick a specific depth for the circuit, i.e., the number of layers it will contain. We set this to 5."
   ]
  },
  {
   "cell_type": "code",
   "execution_count": null,
   "metadata": {},
   "outputs": [],
   "source": [
    "circuit_depth = 5\n",
    "qaoa_solution = get_data.run_standard_qaoa(graph, depth=circuit_depth, pauli_ops_dict=pauli_ops_dict)"
   ]
  },
  {
   "cell_type": "code",
   "execution_count": null,
   "metadata": {},
   "outputs": [],
   "source": [
    "for key in qaoa_solution:\n",
    "    print(key+':', qaoa_solution[key])"
   ]
  },
  {
   "attachments": {},
   "cell_type": "markdown",
   "metadata": {},
   "source": [
    "We now move on the ADAPT-QAOA. We use the same maximum depth of 5 as above."
   ]
  },
  {
   "cell_type": "code",
   "execution_count": null,
   "metadata": {},
   "outputs": [],
   "source": [
    "adapt_qaoa_solution = get_data.run_adapt_qaoa(graph, pauli_ops_dict, gradient_ops_dict, circuit_depth)"
   ]
  },
  {
   "cell_type": "code",
   "execution_count": null,
   "metadata": {},
   "outputs": [],
   "source": [
    "for key in adapt_qaoa_solution:\n",
    "    if key == 'all_mixers':\n",
    "        continue\n",
    "    print(key+':', adapt_qaoa_solution[key])"
   ]
  },
  {
   "attachments": {},
   "cell_type": "markdown",
   "metadata": {},
   "source": [
    "Finally, we solve the problem using the Dynamic ADAPT-QAOA which determines at each layer whether it is beneficial to the classical optimisation to include a Hamiltonian unitary or not. To do this, it is useful to generate a dictionary containing splits of each mixer operator into two operators, one which commutes with the Hamiltonian, and one which anti-commutes with it. This is possible for all mixers which are single Pauli strings."
   ]
  },
  {
   "cell_type": "code",
   "execution_count": null,
   "metadata": {},
   "outputs": [],
   "source": [
    "pauli_mixers_split_ops_dict = build_operators.split_all_mixers(graph)"
   ]
  },
  {
   "cell_type": "code",
   "execution_count": null,
   "metadata": {},
   "outputs": [],
   "source": [
    "dynamic_adapt_qaoa_solution = get_data.run_dynamic_adapt_qaoa(graph, pauli_ops_dict, gradient_ops_dict, pauli_mixers_split_ops_dict, max_depth=circuit_depth)"
   ]
  },
  {
   "cell_type": "code",
   "execution_count": null,
   "metadata": {},
   "outputs": [],
   "source": [
    "for key in dynamic_adapt_qaoa_solution:\n",
    "    if key == 'all_mixers':\n",
    "        continue\n",
    "    print(key+':', dynamic_adapt_qaoa_solution[key])"
   ]
  },
  {
   "attachments": {},
   "cell_type": "markdown",
   "metadata": {},
   "source": [
    "Overall, we see that the three algorithm implementations converge to a good approximation ratio, with the adaptive problem-tailored ones achieving better results. The dynamic algorithm converges quicker compared to the non-dynamic version."
   ]
  }
 ],
 "metadata": {
  "kernelspec": {
   "display_name": "qiskit",
   "language": "python",
   "name": "python3"
  },
  "language_info": {
   "codemirror_mode": {
    "name": "ipython",
    "version": 3
   },
   "file_extension": ".py",
   "mimetype": "text/x-python",
   "name": "python",
   "nbconvert_exporter": "python",
   "pygments_lexer": "ipython3",
   "version": "3.10.10"
  },
  "orig_nbformat": 4
 },
 "nbformat": 4,
 "nbformat_minor": 2
}
