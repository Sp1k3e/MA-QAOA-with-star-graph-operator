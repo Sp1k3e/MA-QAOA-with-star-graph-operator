{
 "cells": [
  {
   "attachments": {},
   "cell_type": "markdown",
   "metadata": {},
   "source": [
    "## Quantum Approximate Optimisation Algorithm in Python\n",
    "\n",
    "This notebook demostrates how the package in this repository can be used to solve quadratic unconstrained binary optimisation (QUBO) problems, expressed in the context of the max-cut problem from graph theory, using a quantum algorithm.\n",
    "\n",
    "We start by first defining the graph using the $\\texttt{networkx}$ package in Python. In this example we will be considering a quite simple complete graph with 4 vertices, where the weights of each edge are\n",
    "uniformly distributed between 0 and 1."
   ]
  },
  {
   "cell_type": "code",
   "execution_count": 1,
   "metadata": {},
   "outputs": [],
   "source": [
    "import networkx as nx\n",
    "from src_code import get_data\n",
    "import random\n",
    "\n",
    "def generate_graph(n, seed=1):\n",
    "\n",
    "    graph = nx.Graph()\n",
    "    edge_list = []\n",
    "    for n_1 in range(n):\n",
    "\n",
    "        for n_2 in range(n_1+1, n):\n",
    "\n",
    "            edge_list.append((n_1, n_2))\n",
    "            \n",
    "    graph.add_edges_from(edge_list)\n",
    "\n",
    "    random.seed(seed)\n",
    "    weights = [random.random() for i in range(len(edge_list))]\n",
    "\n",
    "    for index, edge in enumerate(graph.edges()):\n",
    "        graph.get_edge_data(*edge)['weight'] = weights[index]\n",
    "\n",
    "    return graph, weights"
   ]
  },
  {
   "cell_type": "code",
   "execution_count": 2,
   "metadata": {},
   "outputs": [
    {
     "data": {
      "image/png": "[encoded data removed]",
      "text/plain": [
       "<Figure size 640x480 with 1 Axes>"
      ]
     },
     "metadata": {},
     "output_type": "display_data"
    }
   ],
   "source": [
    "no_vertices = 4\n",
    "graph = generate_graph(no_vertices)[0]\n",
    "pos=nx.circular_layout(graph)\n",
    "nx.draw_networkx(graph, pos)\n",
    "labels = nx.get_edge_attributes(graph,'weight')\n",
    "for edge in labels:\n",
    "    labels[edge] = round(labels[edge], 3)\n",
    "tmp = nx.draw_networkx_edge_labels(graph, pos, edge_labels=labels)"
   ]
  },
  {
   "attachments": {},
   "cell_type": "markdown",
   "metadata": {},
   "source": [
    "Once we have generated the graph, we can define the Ising Hamiltonian whose maximum energy eigenstate corresponds to the solution to the problem. This is given by $$\\hat{H}_C=-\\frac{1}{4}\\sum_{i,j=0}^{n-1}W_{ij}\\hat{Z}_i\\hat{Z}_j.$$ It should be noted that the eigenvalues of this Hamiltonian are not exactly equal to the values of their corresponding cuts. They differ by a constant term $A = \\frac{1}{4}\\sum_{i,j=0}^{n-1}W_{ij}$, which is removed as it doesn't influence to the operation of the algorithm. It is later added back in to generate correct results. Additionally, we can define all the commutators $$\\left[\\hat{H}_C,-i\\hat{A}\\right]\\quad\\forall \\quad\\hat{A}\\in\\mathcal{P}.$$ These are used to find the gradients in parameter space at each iteration which are used to determine which mixer operator from the pool $\\mathcal{P}$ to be added to the ADAPT-QAOA circuit in the current layer."
   ]
  },
  {
   "cell_type": "code",
   "execution_count": 3,
   "metadata": {},
   "outputs": [],
   "source": [
    "from src_code import build_operators\n",
    "\n",
    "hamiltonian = build_operators.cut_hamiltonian(graph=graph)\n",
    "gradient_ops_dict = build_operators.build_all_mixers(graph=graph)"
   ]
  },
  {
   "attachments": {},
   "cell_type": "markdown",
   "metadata": {},
   "source": [
    "In order to make the generation of the unitaries in the ansatz quicker between iterations of both the overall algorithm and the classical optimsation scheme, it is useful to pre-compute all the Pauli strings appearing in the exponents of the unitaries. This then allows one to use the identity $$e^{i\\alpha\\hat{P}}=\\cos(\\alpha)\\hat{I}+i\\sin(\\alpha)\\hat{P}$$ for single Pauli strings, to find the unitaries using simple floating point arithmetic, rather than matrix exponentiation during each iteration."
   ]
  },
  {
   "cell_type": "code",
   "execution_count": 4,
   "metadata": {},
   "outputs": [],
   "source": [
    "pauli_ops_dict = build_operators.build_all_paulis(no_vertices)"
   ]
  },
  {
   "attachments": {},
   "cell_type": "markdown",
   "metadata": {},
   "source": [
    "All this pre-computation allows for significant speed-up in the execution of the algorithms. We now move on to actually running QAOA on the graph. We first perform the standard non-adaptive algorithm. To do so we require to pick a specific depth for the circuit, i.e., the number of layers it will contain. We set this to 5."
   ]
  },
  {
   "cell_type": "code",
   "execution_count": 5,
   "metadata": {},
   "outputs": [],
   "source": [
    "circuit_depth = 5\n",
    "qaoa_solution = get_data.run_standard_qaoa(graph, depth=circuit_depth, pauli_ops_dict=pauli_ops_dict)"
   ]
  },
  {
   "cell_type": "code",
   "execution_count": 6,
   "metadata": {},
   "outputs": [
    {
     "name": "stdout",
     "output_type": "stream",
     "text": [
      "cut_approx_ratio: 0.9805284717098625\n",
      "ham_approx_ratio: 0.948267889921622\n",
      "optimised_Hamiltonian_unitary_parameters: [0.7931514985463479, 2.117306564085576, -4.213283831441711, 0.7490329784903301, 3.2165236869898024]\n",
      "optimised_mixer_unitary_parameters: [-0.978951118140412, 0.3997874885557698, 0.5277593632105835, 0.854417794347998, -0.13080147164918737]\n"
     ]
    }
   ],
   "source": [
    "for key in qaoa_solution:\n",
    "    print(key+':', qaoa_solution[key])"
   ]
  },
  {
   "attachments": {},
   "cell_type": "markdown",
   "metadata": {},
   "source": [
    "We now move on the ADAPT-QAOA. We use the same maximum depth of 5 as above."
   ]
  },
  {
   "cell_type": "code",
   "execution_count": 7,
   "metadata": {},
   "outputs": [
    {
     "name": "stdout",
     "output_type": "stream",
     "text": [
      "Initial Cut Approximation Ratio: 0.6236084656002482 \n",
      "\n",
      "Finding Best Mixer for layer 1...\n",
      "\tBest mixer is Y2Z0 with gradient magnitude 0.8473693563043921\n",
      "\n",
      "Optimising layer 1...\n",
      "\tInitial Parameter Guesses: [0.0, 0.01]\n",
      "\tOptimisation completed wih following outcome:\n",
      "\t\tNumber of iterations performed: 3\n",
      "\t\tNumber of expectation evaluations performed: 12\n",
      "\t\tSuccess: True\n",
      "\t\tOptimiser message: Optimization terminated successfully.\n",
      "\tOptimised mixer unitary parameters: 0.785\n",
      "\tOptimised Hamiltonian unitary parameters: 0.00222\n",
      "\n",
      "Current Cut Approximation Ratio: 0.803018653875865\n",
      "\n",
      "\n",
      "Finding Best Mixer for layer 2...\n",
      "\tBest mixer is Y1Z3 with gradient magnitude 0.4954255357785279\n",
      "\n",
      "Optimising layer 2...\n",
      "\tInitial Parameter Guesses: [0.7853871465115431, 0.0, 0.00222223952117778, 0.01]\n",
      "\tOptimisation completed wih following outcome:\n",
      "\t\tNumber of iterations performed: 2\n",
      "\t\tNumber of expectation evaluations performed: 20\n",
      "\t\tSuccess: True\n",
      "\t\tOptimiser message: Optimization terminated successfully.\n",
      "\tOptimised mixer unitary parameters: 0.785, 0.785\n",
      "\tOptimised Hamiltonian unitary parameters: -0.000216, 0.00932\n",
      "\n",
      "Current Cut Approximation Ratio: 0.9079069189947225\n",
      "\n",
      "\n",
      "Finding Best Mixer for layer 3...\n",
      "\tBest mixer is standard_x with gradient magnitude 0.0038646362999224\n",
      "\n",
      "Optimising layer 3...\n",
      "\tInitial Parameter Guesses: [0.7853924621587911, 0.7847657670909018, 0.0, -0.0002163942331418272, 0.009321646431201794, 0.01]\n",
      "\tOptimisation completed wih following outcome:\n",
      "\t\tNumber of iterations performed: 14\n",
      "\t\tNumber of expectation evaluations performed: 112\n",
      "\t\tSuccess: True\n",
      "\t\tOptimiser message: Optimization terminated successfully.\n",
      "\tOptimised mixer unitary parameters: 0.785, 0.785, -2.04e-05\n",
      "\tOptimised Hamiltonian unitary parameters: -8.06e-05, -6.89e-05, 0.00999\n",
      "\n",
      "Current Cut Approximation Ratio: 0.9079082780494606\n",
      "\n",
      "\n",
      "Finding Best Mixer for layer 4...\n",
      "\tBest mixer is Y0Y2 with gradient magnitude 0.003746978057034286\n",
      "\n",
      "Optimising layer 4...\n",
      "\tInitial Parameter Guesses: [0.7853985478542883, 0.7853928173129682, -2.0383299053147457e-05, 0.0, -8.061645013497158e-05, -6.886301582558158e-05, 0.00999431882906007, 0.01]\n",
      "\tOptimisation completed wih following outcome:\n",
      "\t\tNumber of iterations performed: 24\n",
      "\t\tNumber of expectation evaluations performed: 297\n",
      "\t\tSuccess: True\n",
      "\t\tOptimiser message: Optimization terminated successfully.\n",
      "\tOptimised mixer unitary parameters: 0.785, 0.785, 3.62e-08, 0.785\n",
      "\tOptimised Hamiltonian unitary parameters: -5.65e-06, 3.16e-06, 1.29, 2.32\n",
      "\n",
      "Current Cut Approximation Ratio: 0.999999999987315\n",
      "\n",
      "\n",
      "Finding Best Mixer for layer 5...\n",
      "\tBest mixer is Y0Y2 with gradient magnitude 5.6987620233747345e-06\n",
      "\n",
      "Optimising layer 5...\n",
      "\tInitial Parameter Guesses: [0.7853987029714447, 0.785397083987527, 3.615052863568454e-08, 0.7853916194577304, 0.0, -5.6450200121635615e-06, 3.1616244109378135e-06, 1.2889054723046478, 2.3222180506684227, 0.01]\n",
      "\tOptimisation completed wih following outcome:\n",
      "\t\tNumber of iterations performed: 9\n",
      "\t\tNumber of expectation evaluations performed: 121\n",
      "\t\tSuccess: True\n",
      "\t\tOptimiser message: Optimization terminated successfully.\n",
      "\tOptimised mixer unitary parameters: 0.785, 0.785, 4.87e-08, 0.785, 3.22e-06\n",
      "\tOptimised Hamiltonian unitary parameters: 1.08e-07, 2.91e-07, 1.29, 2.32, 0.01\n",
      "\n",
      "Current Cut Approximation Ratio: 0.9999999999999932\n",
      "\n",
      "\n"
     ]
    }
   ],
   "source": [
    "adapt_qaoa_solution = get_data.run_adapt_qaoa(graph, pauli_ops_dict, gradient_ops_dict, circuit_depth)"
   ]
  },
  {
   "cell_type": "code",
   "execution_count": 8,
   "metadata": {},
   "outputs": [
    {
     "name": "stdout",
     "output_type": "stream",
     "text": [
      "cut_approx_ratios: [0.6236084656002482, 0.803018653875865, 0.9079069189947225, 0.9079082780494606, 0.999999999987315, 0.9999999999999932]\n",
      "ham_approx_ratios: [3.122362835725594e-17, 0.47665840455665454, 0.7553263753603213, 0.7553299861076787, 0.9999999999662985, 0.999999999999982]\n",
      "best_mixers: ['Y2Z0', 'Y1Z3', 'standard_x', 'Y0Y2', 'Y0Y2']\n",
      "best_mixer_parameters: [0.7853980385905645, 0.7853980901285611, 4.868277665597093e-08, 0.7853949253054838, 3.2222304533041107e-06]\n",
      "best_ham_parameters: [1.0845389440903889e-07, 2.9052681164851994e-07, 1.2889044295043048, 2.322217314096507, 0.009999992591315112]\n"
     ]
    }
   ],
   "source": [
    "for key in adapt_qaoa_solution:\n",
    "    if key == 'all_mixers':\n",
    "        continue\n",
    "    print(key+':', adapt_qaoa_solution[key])"
   ]
  },
  {
   "attachments": {},
   "cell_type": "markdown",
   "metadata": {},
   "source": [
    "Finally, we solve the problem using the Dynamic ADAPT-QAOA which determines at each layer whether it is beneficial to the classical optimisation to include a Hamiltonian unitary or not. To do this, it is useful to generate a dictionary containing splits of each mixer operator into two operators, one which commutes with the Hamiltonian, and one which anti-commutes with it. This is possible for all mixers which are single Pauli strings."
   ]
  },
  {
   "cell_type": "code",
   "execution_count": 9,
   "metadata": {},
   "outputs": [],
   "source": [
    "pauli_mixers_split_ops_dict = build_operators.split_all_mixers(graph)"
   ]
  },
  {
   "cell_type": "code",
   "execution_count": 10,
   "metadata": {},
   "outputs": [
    {
     "name": "stdout",
     "output_type": "stream",
     "text": [
      "Initial Cut Approximation Ratio: 0.6236084656002482 \n",
      "\n",
      "Finding Best Mixer for layer 1...\n",
      "\tThe best mixer for layer 1 with no Hamiltonian unitary is Y2Z0 with a gradient of 0.8474337369372327\n",
      "\t<iMH_a> = 0.42371686846861634\n",
      "\t<MH_a^2> = 0\n",
      "\t<iMH_a^3> = 0.16095427756252523\n",
      "\tA maximum occurs when using no Hamiltonian unitary so we remove it for this layer!\n",
      "\n",
      "Optimising layer 1...\n",
      "\tInitial Parameter Guesses: [0.0]\n",
      "\tOptimisation completed wih following outcome:\n",
      "\t\tNumber of iterations performed: 3\n",
      "\t\tNumber of expectation evaluations performed: 8\n",
      "\t\tSuccess: True\n",
      "\t\tOptimiser message: Optimization terminated successfully.\n",
      "\tOptimised mixer unitary parameters: 0.785\n",
      "\tOptimised Hamiltonian unitary parameters\n",
      "\n",
      "Current Cut Approximation Ratio: 0.8030193264617695\n",
      "\n",
      "\n",
      "Finding Best Mixer for layer 2...\n",
      "\tThe best mixer for layer 2 with no Hamiltonian unitary is Y3Z1 with a gradient of 0.495435087091941\n",
      "\t<iMH_a> = 0.2477175435459705\n",
      "\t<MH_a^2> = 0\n",
      "\t<iMH_a^3> = 0.03355200293918671\n",
      "\tA maximum occurs when using no Hamiltonian unitary so we remove it for this layer!\n",
      "\n",
      "Optimising layer 2...\n",
      "\tInitial Parameter Guesses: [0.7854379823793136, 0.0]\n",
      "\tOptimisation completed wih following outcome:\n",
      "\t\tNumber of iterations performed: 2\n",
      "\t\tNumber of expectation evaluations performed: 12\n",
      "\t\tSuccess: True\n",
      "\t\tOptimiser message: Optimization terminated successfully.\n",
      "\tOptimised mixer unitary parameters: 0.785, 0.785\n",
      "\tOptimised Hamiltonian unitary parameters\n",
      "\n",
      "Current Cut Approximation Ratio: 0.9079081933439633\n",
      "\n",
      "\n",
      "Finding Best Mixer for layer 3...\n",
      "\tThe best mixer for layer 3 with no Hamiltonian unitary is Y1Z3 with a gradient of 0.0006291199867483291\n",
      "\t<iMH_a> = 0.00031455999337416456\n",
      "\t<MH_a^2> = 0\n",
      "\t<iMH_a^3> = 2.273992400520244e-05\n",
      "\tA maximum occurs when using no Hamiltonian unitary so we remove it for this layer!\n",
      "\n",
      "Optimising layer 3...\n",
      "\tInitial Parameter Guesses: [0.7854204767212328, 0.7847632465615064, 0.0]\n",
      "\tOptimisation completed wih following outcome:\n",
      "\t\tNumber of iterations performed: 1\n",
      "\t\tNumber of expectation evaluations performed: 12\n",
      "\t\tSuccess: True\n",
      "\t\tOptimiser message: Optimization terminated successfully.\n",
      "\tOptimised mixer unitary parameters: 0.785, 0.785, 0.000318\n",
      "\tOptimised Hamiltonian unitary parameters\n",
      "\n",
      "Current Cut Approximation Ratio: 0.9079082780844338\n",
      "\n",
      "\n",
      "Finding Best Mixer for layer 4...\n",
      "\tThe best mixer for layer 4 with no Hamiltonian unitary is Y2Z0 with a gradient of 5.445724672722728e-06\n",
      "\t<iMH_a> = -2.722862336361364e-06\n",
      "\t<MH_a^2> = 0\n",
      "\t<iMH_a^3> = -5.660447733474943e-07\n",
      "\tIt is unclear whether a maximum occurs when using no Hamiltonian unitary so we will add it to the layer!\n",
      "\tThe new best mixer for layer 4 with a Hamiltonian unitary is X1X3 with a gradient of 0.018915518751118552\n",
      "\n",
      "Optimising layer 4...\n",
      "\tInitial Parameter Guesses: [0.785401376465583, 0.7850807793801826, 0.00031754033994240766, 0.0, 0.1]\n",
      "\tOptimisation completed wih following outcome:\n",
      "\t\tNumber of iterations performed: 12\n",
      "\t\tNumber of expectation evaluations performed: 102\n",
      "\t\tSuccess: True\n",
      "\t\tOptimiser message: Optimization terminated successfully.\n",
      "\tOptimised mixer unitary parameters: 0.785, 0.785, 0.000305, 0.785\n",
      "\tOptimised Hamiltonian unitary parameters: 3.61\n",
      "\n",
      "Current Cut Approximation Ratio: 0.9999999988163014\n",
      "\n",
      "\n",
      "Finding Best Mixer for layer 5...\n",
      "\tThe best mixer for layer 5 with no Hamiltonian unitary is Y0Z2 with a gradient of 9.287306079135803e-05\n",
      "\t<iMH_a> = -4.643653039567902e-05\n",
      "\t<MH_a^2> = -2.7965557837535314e-06\n",
      "\t<iMH_a^3> = -2.53202790855103e-05\n",
      "\tIt is unclear whether a maximum occurs when using no Hamiltonian unitary so we will add it to the layer!\n",
      "\tThe new best mixer for layer 5 with a Hamiltonian unitary is Y0Z2 with a gradient of 9.297664955661614e-05\n",
      "\n",
      "Optimising layer 5...\n",
      "\tInitial Parameter Guesses: [0.785447012049475, 0.7850684895259401, 0.0003052202555144743, 0.7853964310342147, 0.0, 3.6111591286330578, 0.1]\n",
      "\tOptimisation completed wih following outcome:\n",
      "\t\tNumber of iterations performed: 6\n",
      "\t\tNumber of expectation evaluations performed: 72\n",
      "\t\tSuccess: True\n",
      "\t\tOptimiser message: Optimization terminated successfully.\n",
      "\tOptimised mixer unitary parameters: 0.785, 0.785, 0.000317, 0.785, 7.07e-07\n",
      "\tOptimised Hamiltonian unitary parameters: 3.61, 0.1\n",
      "\n",
      "Current Cut Approximation Ratio: 0.9999999999990794\n",
      "\n",
      "\n"
     ]
    }
   ],
   "source": [
    "dynamic_adapt_qaoa_solution = get_data.run_dynamic_adapt_qaoa(graph, pauli_ops_dict, gradient_ops_dict, pauli_mixers_split_ops_dict, max_depth=circuit_depth)"
   ]
  },
  {
   "cell_type": "code",
   "execution_count": 11,
   "metadata": {},
   "outputs": [
    {
     "name": "stdout",
     "output_type": "stream",
     "text": [
      "cut_approx_ratios: [0.6236084656002482, 0.8030193264617695, 0.9079081933439633, 0.9079082780844338, 0.9999999988163014, 0.9999999999990794]\n",
      "ham_approx_ratios: [3.122362835725594e-17, 0.47666019148819516, 0.7553297610614449, 0.7553299862005955, 0.9999999968551402, 0.999999999997554]\n",
      "best_mixers: ['Y2Z0', 'Y3Z1', 'Y1Z3', 'X1X3', 'Y0Z2']\n",
      "best_mixer_parameters: [0.7853973423672501, 0.7850807716996512, 0.0003174651773739743, 0.7853978048085118, 7.067406999878113e-07]\n",
      "best_ham_parameters: [3.6111322479525, 0.10000004066166757]\n",
      "ham_unitary_layers: [4, 5]\n"
     ]
    }
   ],
   "source": [
    "for key in dynamic_adapt_qaoa_solution:\n",
    "    if key == 'all_mixers':\n",
    "        continue\n",
    "    print(key+':', dynamic_adapt_qaoa_solution[key])"
   ]
  },
  {
   "attachments": {},
   "cell_type": "markdown",
   "metadata": {},
   "source": [
    "Overall, we see that the three algorithm implementations converge to a good approximation ratio, with the adaptive problem-tailored ones achieving better results. The dynamic algorithm converges quicker compared to the non-dynamic version."
   ]
  }
 ],
 "metadata": {
  "kernelspec": {
   "display_name": "qiskit",
   "language": "python",
   "name": "python3"
  },
  "language_info": {
   "codemirror_mode": {
    "name": "ipython",
    "version": 3
   },
   "file_extension": ".py",
   "mimetype": "text/x-python",
   "name": "python",
   "nbconvert_exporter": "python",
   "pygments_lexer": "ipython3",
   "version": "3.10.4"
  },
  "orig_nbformat": 4
 },
 "nbformat": 4,
 "nbformat_minor": 2
}
